{
  "nbformat": 4,
  "nbformat_minor": 0,
  "metadata": {
    "colab": {
      "provenance": [],
      "authorship_tag": "ABX9TyPoX/b8iMHbu2W1M1gMIo78",
      "include_colab_link": true
    },
    "kernelspec": {
      "name": "python3",
      "display_name": "Python 3"
    },
    "language_info": {
      "name": "python"
    }
  },
  "cells": [
    {
      "cell_type": "markdown",
      "metadata": {
        "id": "view-in-github",
        "colab_type": "text"
      },
      "source": [
        "<a href=\"https://colab.research.google.com/github/nitin7447/Big-Data-Practical/blob/main/NitinKumavat_3025015.ipynb\" target=\"_parent\"><img src=\"https://colab.research.google.com/assets/colab-badge.svg\" alt=\"Open In Colab\"/></a>"
      ]
    },
    {
      "cell_type": "code",
      "execution_count": 1,
      "metadata": {
        "colab": {
          "base_uri": "https://localhost:8080/"
        },
        "id": "rc8_hbPDoSFf",
        "outputId": "3513f643-0d16-4722-af88-8470a766257d"
      },
      "outputs": [
        {
          "output_type": "stream",
          "name": "stdout",
          "text": [
            "Looking in indexes: https://pypi.org/simple, https://us-python.pkg.dev/colab-wheels/public/simple/\n",
            "Collecting pyspark\n",
            "  Downloading pyspark-3.3.1.tar.gz (281.4 MB)\n",
            "\u001b[2K     \u001b[90m━━━━━━━━━━━━━━━━━━━━━━━━━━━━━━━━━━━━━━━\u001b[0m \u001b[32m281.4/281.4 MB\u001b[0m \u001b[31m4.5 MB/s\u001b[0m eta \u001b[36m0:00:00\u001b[0m\n",
            "\u001b[?25h  Preparing metadata (setup.py) ... \u001b[?25l\u001b[?25hdone\n",
            "Collecting py4j==0.10.9.5\n",
            "  Downloading py4j-0.10.9.5-py2.py3-none-any.whl (199 kB)\n",
            "\u001b[2K     \u001b[90m━━━━━━━━━━━━━━━━━━━━━━━━━━━━━━━━━━━━━━\u001b[0m \u001b[32m199.7/199.7 KB\u001b[0m \u001b[31m13.6 MB/s\u001b[0m eta \u001b[36m0:00:00\u001b[0m\n",
            "\u001b[?25hBuilding wheels for collected packages: pyspark\n",
            "  Building wheel for pyspark (setup.py) ... \u001b[?25l\u001b[?25hdone\n",
            "  Created wheel for pyspark: filename=pyspark-3.3.1-py2.py3-none-any.whl size=281845512 sha256=fd36d33f94054146a126aed1d0345ef1864242b96d5515fc22f99400b5956994\n",
            "  Stored in directory: /root/.cache/pip/wheels/43/dc/11/ec201cd671da62fa9c5cc77078235e40722170ceba231d7598\n",
            "Successfully built pyspark\n",
            "Installing collected packages: py4j, pyspark\n",
            "Successfully installed py4j-0.10.9.5 pyspark-3.3.1\n"
          ]
        }
      ],
      "source": [
        "pip install pyspark"
      ]
    },
    {
      "cell_type": "code",
      "source": [
        "from pyspark.sql import SparkSession\n",
        "from pyspark.ml.feature import VectorAssembler,MinMaxScaler"
      ],
      "metadata": {
        "id": "g71v9s1Oohph"
      },
      "execution_count": 2,
      "outputs": []
    },
    {
      "cell_type": "code",
      "source": [
        "spark=SparkSession.builder.master(\"local[4]\")\\\n",
        "    .appName('NitinExam').getOrCreate()"
      ],
      "metadata": {
        "id": "K6YDfAI6ohsY"
      },
      "execution_count": 3,
      "outputs": []
    },
    {
      "cell_type": "code",
      "source": [
        "data=spark.read.csv(\"wine-class.csv\",header=True)"
      ],
      "metadata": {
        "id": "2mYRqJSYohuy"
      },
      "execution_count": 7,
      "outputs": []
    },
    {
      "cell_type": "code",
      "source": [
        "data.show(5)"
      ],
      "metadata": {
        "colab": {
          "base_uri": "https://localhost:8080/"
        },
        "id": "kCXUDFWAohxb",
        "outputId": "aa24f37d-db06-4b8d-877b-6e58f728e1cf"
      },
      "execution_count": 9,
      "outputs": [
        {
          "output_type": "stream",
          "name": "stdout",
          "text": [
            "+-----+-------+-----------+----+------------------+----------+--------------+-----------+---------------------+----------------+----------------+----+-----------------------------+--------+\n",
            "|class|alcohol| malic_acid| ash| alcalinity_of_ash| magnesium| total_phenols| flavanoids| nonflavanoid_phenols| proanthocyanins| color_intensity| hue| od280/od315_of_diluted_wines| proline|\n",
            "+-----+-------+-----------+----+------------------+----------+--------------+-----------+---------------------+----------------+----------------+----+-----------------------------+--------+\n",
            "|    1|  14.23|       1.71|2.43|              15.6|       127|           2.8|       3.06|                 0.28|            2.29|            5.64|1.04|                         3.92|    1065|\n",
            "|    1|   13.2|       1.78|2.14|              11.2|       100|          2.65|       2.76|                 0.26|            1.28|            4.38|1.05|                          3.4|    1050|\n",
            "|    1|  13.16|       2.36|2.67|              18.6|       101|           2.8|       3.24|                  0.3|            2.81|            5.68|1.03|                         3.17|    1185|\n",
            "|    1|  14.37|       1.95| 2.5|              16.8|       113|          3.85|       3.49|                 0.24|            2.18|             7.8|0.86|                         3.45|    1480|\n",
            "|    1|  13.24|       2.59|2.87|                21|       118|           2.8|       2.69|                 0.39|            1.82|            4.32|1.04|                         2.93|     735|\n",
            "+-----+-------+-----------+----+------------------+----------+--------------+-----------+---------------------+----------------+----------------+----+-----------------------------+--------+\n",
            "only showing top 5 rows\n",
            "\n"
          ]
        }
      ]
    },
    {
      "cell_type": "markdown",
      "source": [],
      "metadata": {
        "id": "_b3HPgHMyNbj"
      }
    },
    {
      "cell_type": "code",
      "source": [
        "data"
      ],
      "metadata": {
        "colab": {
          "base_uri": "https://localhost:8080/"
        },
        "id": "TV8jJTOAoh0Z",
        "outputId": "a35620f3-0848-4d5d-866a-7b3a86664293"
      },
      "execution_count": 10,
      "outputs": [
        {
          "output_type": "execute_result",
          "data": {
            "text/plain": [
              "DataFrame[class: string, alcohol: string,  malic_acid: string,  ash: string,  alcalinity_of_ash: string,  magnesium: string,  total_phenols: string,  flavanoids: string,  nonflavanoid_phenols: string,  proanthocyanins: string,  color_intensity: string,  hue: string,  od280/od315_of_diluted_wines: string,  proline: string]"
            ]
          },
          "metadata": {},
          "execution_count": 10
        }
      ]
    },
    {
      "cell_type": "code",
      "source": [
        "data.summary().show()"
      ],
      "metadata": {
        "colab": {
          "base_uri": "https://localhost:8080/"
        },
        "id": "DkzwUMbmxQCx",
        "outputId": "2e23394f-d1e1-4f20-a86c-9ed33d7634bb"
      },
      "execution_count": 45,
      "outputs": [
        {
          "output_type": "stream",
          "name": "stdout",
          "text": [
            "+-------+------------------+------------------+------------------+------------------+------------------+------------------+------------------+------------------+---------------------+------------------+-----------------+-------------------+-----------------------------+-----------------+\n",
            "|summary|             class|           alcohol|        malic_acid|               ash| alcalinity_of_ash|         magnesium|     total_phenols|        flavanoids| nonflavanoid_phenols|   proanthocyanins|  color_intensity|                hue| od280/od315_of_diluted_wines|          proline|\n",
            "+-------+------------------+------------------+------------------+------------------+------------------+------------------+------------------+------------------+---------------------+------------------+-----------------+-------------------+-----------------------------+-----------------+\n",
            "|  count|               178|               178|               178|               178|               178|               178|               178|               178|                  178|               178|              178|                178|                          178|              178|\n",
            "|   mean|1.9382022471910112|13.000617977528083| 2.336348314606741|2.3665168539325854| 19.49494382022472| 99.74157303370787| 2.295112359550562|2.0292696629213474|  0.36185393258426973|1.5908988764044953|5.058089882022473| 0.9574494382022468|           2.6116853932584254|746.8932584269663|\n",
            "| stddev|0.7750349899850563| 0.811826538005858|1.1171460976144625|0.2743440090608148| 3.339563767173504|14.282483515295652|0.6258510488339892|0.9988586850169471|  0.12445334029667941|0.5723588626747612|2.318285871822413|0.22857156582982324|           0.7099904287650503|314.9074742768492|\n",
            "|    min|                 1|             11.03|              0.74|              1.36|              10.6|               100|              0.98|              0.34|                 0.13|              0.41|             1.28|               0.48|                         1.27|             1015|\n",
            "|    25%|               1.0|             12.36|               1.6|              2.21|              17.2|              88.0|              1.74|               1.2|                 0.27|              1.25|             3.21|               0.78|                         1.93|            500.0|\n",
            "|    50%|               2.0|             13.05|              1.86|              2.36|              19.5|              98.0|              2.35|              2.13|                 0.34|              1.55|             4.68|               0.96|                         2.78|            672.0|\n",
            "|    75%|               3.0|             13.68|               3.1|              2.56|              21.5|             107.0|               2.8|              2.88|                 0.44|              1.95|              6.2|               1.12|                         3.17|            985.0|\n",
            "|    max|                 3|             14.83|               5.8|              3.23|                30|                99|              3.88|              5.08|                 0.66|              3.58|         9.899999|               1.71|                            4|              990|\n",
            "+-------+------------------+------------------+------------------+------------------+------------------+------------------+------------------+------------------+---------------------+------------------+-----------------+-------------------+-----------------------------+-----------------+\n",
            "\n"
          ]
        }
      ]
    },
    {
      "cell_type": "code",
      "source": [
        "data.groupby('class').count().show()"
      ],
      "metadata": {
        "colab": {
          "base_uri": "https://localhost:8080/"
        },
        "id": "KXTtSVBOvtgX",
        "outputId": "fbe472b7-5291-4bfa-9a44-5b670f561dde"
      },
      "execution_count": 40,
      "outputs": [
        {
          "output_type": "stream",
          "name": "stdout",
          "text": [
            "+-----+-----+\n",
            "|class|count|\n",
            "+-----+-----+\n",
            "|    3|   48|\n",
            "|    1|   59|\n",
            "|    2|   71|\n",
            "+-----+-----+\n",
            "\n"
          ]
        }
      ]
    },
    {
      "cell_type": "code",
      "source": [
        "data.describe()"
      ],
      "metadata": {
        "colab": {
          "base_uri": "https://localhost:8080/"
        },
        "id": "oW_Pk8OExbDI",
        "outputId": "68d3620a-b2d2-486c-85c3-ab0640e402eb"
      },
      "execution_count": 47,
      "outputs": [
        {
          "output_type": "execute_result",
          "data": {
            "text/plain": [
              "DataFrame[summary: string, class: string, alcohol: string,  malic_acid: string,  ash: string,  alcalinity_of_ash: string,  magnesium: string,  total_phenols: string,  flavanoids: string,  nonflavanoid_phenols: string,  proanthocyanins: string,  color_intensity: string,  hue: string,  od280/od315_of_diluted_wines: string,  proline: string]"
            ]
          },
          "metadata": {},
          "execution_count": 47
        }
      ]
    },
    {
      "cell_type": "code",
      "source": [
        "pdf=data.toPandas()"
      ],
      "metadata": {
        "id": "_j4uRo1-xueO"
      },
      "execution_count": 48,
      "outputs": []
    },
    {
      "cell_type": "code",
      "source": [
        "pdf.isnull().sum()"
      ],
      "metadata": {
        "colab": {
          "base_uri": "https://localhost:8080/"
        },
        "id": "fB1xebD3vtsF",
        "outputId": "b9ab7bfd-7f77-49ab-a53f-dec68c479cf4"
      },
      "execution_count": 49,
      "outputs": [
        {
          "output_type": "execute_result",
          "data": {
            "text/plain": [
              "class                            0\n",
              "alcohol                          0\n",
              " malic_acid                      0\n",
              " ash                             0\n",
              " alcalinity_of_ash               0\n",
              " magnesium                       0\n",
              " total_phenols                   0\n",
              " flavanoids                      0\n",
              " nonflavanoid_phenols            0\n",
              " proanthocyanins                 0\n",
              " color_intensity                 0\n",
              " hue                             0\n",
              " od280/od315_of_diluted_wines    0\n",
              " proline                         0\n",
              "dtype: int64"
            ]
          },
          "metadata": {},
          "execution_count": 49
        }
      ]
    },
    {
      "cell_type": "code",
      "source": [
        "from pyspark.ml.classification import MultilayerPerceptronClassifier\n",
        "from pyspark.ml.evaluation import MulticlassClassificationEvaluator"
      ],
      "metadata": {
        "id": "t5dITqDEvtzs"
      },
      "execution_count": 50,
      "outputs": []
    },
    {
      "cell_type": "code",
      "source": [
        "input_cols = data.columns[1:]"
      ],
      "metadata": {
        "id": "euLMmoS_u3JT"
      },
      "execution_count": 58,
      "outputs": []
    },
    {
      "cell_type": "code",
      "source": [
        "data.select(input_cols).show()"
      ],
      "metadata": {
        "colab": {
          "base_uri": "https://localhost:8080/"
        },
        "id": "yGqRKn3Hu3MO",
        "outputId": "cbd52096-cdc7-475e-db82-a70f85c6c446"
      },
      "execution_count": 59,
      "outputs": [
        {
          "output_type": "stream",
          "name": "stdout",
          "text": [
            "+-------+-----------+----+------------------+----------+--------------+-----------+---------------------+----------------+----------------+----+-----------------------------+--------+\n",
            "|alcohol| malic_acid| ash| alcalinity_of_ash| magnesium| total_phenols| flavanoids| nonflavanoid_phenols| proanthocyanins| color_intensity| hue| od280/od315_of_diluted_wines| proline|\n",
            "+-------+-----------+----+------------------+----------+--------------+-----------+---------------------+----------------+----------------+----+-----------------------------+--------+\n",
            "|  14.23|       1.71|2.43|              15.6|       127|           2.8|       3.06|                 0.28|            2.29|            5.64|1.04|                         3.92|    1065|\n",
            "|   13.2|       1.78|2.14|              11.2|       100|          2.65|       2.76|                 0.26|            1.28|            4.38|1.05|                          3.4|    1050|\n",
            "|  13.16|       2.36|2.67|              18.6|       101|           2.8|       3.24|                  0.3|            2.81|            5.68|1.03|                         3.17|    1185|\n",
            "|  14.37|       1.95| 2.5|              16.8|       113|          3.85|       3.49|                 0.24|            2.18|             7.8|0.86|                         3.45|    1480|\n",
            "|  13.24|       2.59|2.87|                21|       118|           2.8|       2.69|                 0.39|            1.82|            4.32|1.04|                         2.93|     735|\n",
            "|   14.2|       1.76|2.45|              15.2|       112|          3.27|       3.39|                 0.34|            1.97|            6.75|1.05|                         2.85|    1450|\n",
            "|  14.39|       1.87|2.45|              14.6|        96|           2.5|       2.52|                  0.3|            1.98|            5.25|1.02|                         3.58|    1290|\n",
            "|  14.06|       2.15|2.61|              17.6|       121|           2.6|       2.51|                 0.31|            1.25|            5.05|1.06|                         3.58|    1295|\n",
            "|  14.83|       1.64|2.17|                14|        97|           2.8|       2.98|                 0.29|            1.98|             5.2|1.08|                         2.85|    1045|\n",
            "|  13.86|       1.35|2.27|                16|        98|          2.98|       3.15|                 0.22|            1.85|            7.22|1.01|                         3.55|    1045|\n",
            "|   14.1|       2.16| 2.3|                18|       105|          2.95|       3.32|                 0.22|            2.38|            5.75|1.25|                         3.17|    1510|\n",
            "|  14.12|       1.48|2.32|              16.8|        95|           2.2|       2.43|                 0.26|            1.57|               5|1.17|                         2.82|    1280|\n",
            "|  13.75|       1.73|2.41|                16|        89|           2.6|       2.76|                 0.29|            1.81|             5.6|1.15|                          2.9|    1320|\n",
            "|  14.75|       1.73|2.39|              11.4|        91|           3.1|       3.69|                 0.43|            2.81|             5.4|1.25|                         2.73|    1150|\n",
            "|  14.38|       1.87|2.38|                12|       102|           3.3|       3.64|                 0.29|            2.96|             7.5| 1.2|                            3|    1547|\n",
            "|  13.63|       1.81| 2.7|              17.2|       112|          2.85|       2.91|                  0.3|            1.46|             7.3|1.28|                         2.88|    1310|\n",
            "|   14.3|       1.92|2.72|                20|       120|           2.8|       3.14|                 0.33|            1.97|             6.2|1.07|                         2.65|    1280|\n",
            "|  13.83|       1.57|2.62|                20|       115|          2.95|        3.4|                  0.4|            1.72|             6.6|1.13|                         2.57|    1130|\n",
            "|  14.19|       1.59|2.48|              16.5|       108|           3.3|       3.93|                 0.32|            1.86|             8.7|1.23|                         2.82|    1680|\n",
            "|  13.64|        3.1|2.56|              15.2|       116|           2.7|       3.03|                 0.17|            1.66|             5.1|0.96|                         3.36|     845|\n",
            "+-------+-----------+----+------------------+----------+--------------+-----------+---------------------+----------------+----------------+----+-----------------------------+--------+\n",
            "only showing top 20 rows\n",
            "\n"
          ]
        }
      ]
    },
    {
      "cell_type": "code",
      "source": [
        "from pyspark.ml.feature import Imputer, MinMaxScaler"
      ],
      "metadata": {
        "id": "fdanJV3-u3PG"
      },
      "execution_count": 61,
      "outputs": []
    },
    {
      "cell_type": "code",
      "source": [
        "imputed_col=['f_{}'.format(i+1) for i in range(13)]"
      ],
      "metadata": {
        "id": "lMaR2870u3R9"
      },
      "execution_count": 92,
      "outputs": []
    },
    {
      "cell_type": "code",
      "source": [
        "imputed_col"
      ],
      "metadata": {
        "colab": {
          "base_uri": "https://localhost:8080/"
        },
        "id": "gANm9Ryru3Uy",
        "outputId": "7a723304-ac84-4274-ff21-98a171b80137"
      },
      "execution_count": 93,
      "outputs": [
        {
          "output_type": "execute_result",
          "data": {
            "text/plain": [
              "['f_1',\n",
              " 'f_2',\n",
              " 'f_3',\n",
              " 'f_4',\n",
              " 'f_5',\n",
              " 'f_6',\n",
              " 'f_7',\n",
              " 'f_8',\n",
              " 'f_9',\n",
              " 'f_10',\n",
              " 'f_11',\n",
              " 'f_12',\n",
              " 'f_13']"
            ]
          },
          "metadata": {},
          "execution_count": 93
        }
      ]
    },
    {
      "cell_type": "code",
      "source": [
        "for col in data.columns:\n",
        "  data=data.withColumn(col,data[col].cast('double'))"
      ],
      "metadata": {
        "id": "fTs59AEOzjRs"
      },
      "execution_count": 94,
      "outputs": []
    },
    {
      "cell_type": "code",
      "source": [
        "model=Imputer(strategy='mean',\n",
        "              missingValue=None,\n",
        "              inputCols=input_cols,\n",
        "              outputCols=imputed_col).fit(data)"
      ],
      "metadata": {
        "id": "zURFvr4ZzONe"
      },
      "execution_count": 95,
      "outputs": []
    },
    {
      "cell_type": "code",
      "source": [
        "impute_data=model.transform(data)"
      ],
      "metadata": {
        "id": "0IfDrTxzzOR4"
      },
      "execution_count": 96,
      "outputs": []
    },
    {
      "cell_type": "code",
      "source": [
        "impute_data.show()"
      ],
      "metadata": {
        "colab": {
          "base_uri": "https://localhost:8080/"
        },
        "id": "WtkiCo2BzOVh",
        "outputId": "30695cf3-612b-4db9-9e71-00ca76ad1c05"
      },
      "execution_count": 97,
      "outputs": [
        {
          "output_type": "stream",
          "name": "stdout",
          "text": [
            "+-----+-------+-----------+----+------------------+----------+--------------+-----------+---------------------+----------------+----------------+----+-----------------------------+--------+-----+----+----+----+-----+----+----+----+----+----+----+----+------+\n",
            "|class|alcohol| malic_acid| ash| alcalinity_of_ash| magnesium| total_phenols| flavanoids| nonflavanoid_phenols| proanthocyanins| color_intensity| hue| od280/od315_of_diluted_wines| proline|  f_1| f_2| f_3| f_4|  f_5| f_6| f_7| f_8| f_9|f_10|f_11|f_12|  f_13|\n",
            "+-----+-------+-----------+----+------------------+----------+--------------+-----------+---------------------+----------------+----------------+----+-----------------------------+--------+-----+----+----+----+-----+----+----+----+----+----+----+----+------+\n",
            "|  1.0|  14.23|       1.71|2.43|              15.6|     127.0|           2.8|       3.06|                 0.28|            2.29|            5.64|1.04|                         3.92|  1065.0|14.23|1.71|2.43|15.6|127.0| 2.8|3.06|0.28|2.29|5.64|1.04|3.92|1065.0|\n",
            "|  1.0|   13.2|       1.78|2.14|              11.2|     100.0|          2.65|       2.76|                 0.26|            1.28|            4.38|1.05|                          3.4|  1050.0| 13.2|1.78|2.14|11.2|100.0|2.65|2.76|0.26|1.28|4.38|1.05| 3.4|1050.0|\n",
            "|  1.0|  13.16|       2.36|2.67|              18.6|     101.0|           2.8|       3.24|                  0.3|            2.81|            5.68|1.03|                         3.17|  1185.0|13.16|2.36|2.67|18.6|101.0| 2.8|3.24| 0.3|2.81|5.68|1.03|3.17|1185.0|\n",
            "|  1.0|  14.37|       1.95| 2.5|              16.8|     113.0|          3.85|       3.49|                 0.24|            2.18|             7.8|0.86|                         3.45|  1480.0|14.37|1.95| 2.5|16.8|113.0|3.85|3.49|0.24|2.18| 7.8|0.86|3.45|1480.0|\n",
            "|  1.0|  13.24|       2.59|2.87|              21.0|     118.0|           2.8|       2.69|                 0.39|            1.82|            4.32|1.04|                         2.93|   735.0|13.24|2.59|2.87|21.0|118.0| 2.8|2.69|0.39|1.82|4.32|1.04|2.93| 735.0|\n",
            "|  1.0|   14.2|       1.76|2.45|              15.2|     112.0|          3.27|       3.39|                 0.34|            1.97|            6.75|1.05|                         2.85|  1450.0| 14.2|1.76|2.45|15.2|112.0|3.27|3.39|0.34|1.97|6.75|1.05|2.85|1450.0|\n",
            "|  1.0|  14.39|       1.87|2.45|              14.6|      96.0|           2.5|       2.52|                  0.3|            1.98|            5.25|1.02|                         3.58|  1290.0|14.39|1.87|2.45|14.6| 96.0| 2.5|2.52| 0.3|1.98|5.25|1.02|3.58|1290.0|\n",
            "|  1.0|  14.06|       2.15|2.61|              17.6|     121.0|           2.6|       2.51|                 0.31|            1.25|            5.05|1.06|                         3.58|  1295.0|14.06|2.15|2.61|17.6|121.0| 2.6|2.51|0.31|1.25|5.05|1.06|3.58|1295.0|\n",
            "|  1.0|  14.83|       1.64|2.17|              14.0|      97.0|           2.8|       2.98|                 0.29|            1.98|             5.2|1.08|                         2.85|  1045.0|14.83|1.64|2.17|14.0| 97.0| 2.8|2.98|0.29|1.98| 5.2|1.08|2.85|1045.0|\n",
            "|  1.0|  13.86|       1.35|2.27|              16.0|      98.0|          2.98|       3.15|                 0.22|            1.85|            7.22|1.01|                         3.55|  1045.0|13.86|1.35|2.27|16.0| 98.0|2.98|3.15|0.22|1.85|7.22|1.01|3.55|1045.0|\n",
            "|  1.0|   14.1|       2.16| 2.3|              18.0|     105.0|          2.95|       3.32|                 0.22|            2.38|            5.75|1.25|                         3.17|  1510.0| 14.1|2.16| 2.3|18.0|105.0|2.95|3.32|0.22|2.38|5.75|1.25|3.17|1510.0|\n",
            "|  1.0|  14.12|       1.48|2.32|              16.8|      95.0|           2.2|       2.43|                 0.26|            1.57|             5.0|1.17|                         2.82|  1280.0|14.12|1.48|2.32|16.8| 95.0| 2.2|2.43|0.26|1.57| 5.0|1.17|2.82|1280.0|\n",
            "|  1.0|  13.75|       1.73|2.41|              16.0|      89.0|           2.6|       2.76|                 0.29|            1.81|             5.6|1.15|                          2.9|  1320.0|13.75|1.73|2.41|16.0| 89.0| 2.6|2.76|0.29|1.81| 5.6|1.15| 2.9|1320.0|\n",
            "|  1.0|  14.75|       1.73|2.39|              11.4|      91.0|           3.1|       3.69|                 0.43|            2.81|             5.4|1.25|                         2.73|  1150.0|14.75|1.73|2.39|11.4| 91.0| 3.1|3.69|0.43|2.81| 5.4|1.25|2.73|1150.0|\n",
            "|  1.0|  14.38|       1.87|2.38|              12.0|     102.0|           3.3|       3.64|                 0.29|            2.96|             7.5| 1.2|                          3.0|  1547.0|14.38|1.87|2.38|12.0|102.0| 3.3|3.64|0.29|2.96| 7.5| 1.2| 3.0|1547.0|\n",
            "|  1.0|  13.63|       1.81| 2.7|              17.2|     112.0|          2.85|       2.91|                  0.3|            1.46|             7.3|1.28|                         2.88|  1310.0|13.63|1.81| 2.7|17.2|112.0|2.85|2.91| 0.3|1.46| 7.3|1.28|2.88|1310.0|\n",
            "|  1.0|   14.3|       1.92|2.72|              20.0|     120.0|           2.8|       3.14|                 0.33|            1.97|             6.2|1.07|                         2.65|  1280.0| 14.3|1.92|2.72|20.0|120.0| 2.8|3.14|0.33|1.97| 6.2|1.07|2.65|1280.0|\n",
            "|  1.0|  13.83|       1.57|2.62|              20.0|     115.0|          2.95|        3.4|                  0.4|            1.72|             6.6|1.13|                         2.57|  1130.0|13.83|1.57|2.62|20.0|115.0|2.95| 3.4| 0.4|1.72| 6.6|1.13|2.57|1130.0|\n",
            "|  1.0|  14.19|       1.59|2.48|              16.5|     108.0|           3.3|       3.93|                 0.32|            1.86|             8.7|1.23|                         2.82|  1680.0|14.19|1.59|2.48|16.5|108.0| 3.3|3.93|0.32|1.86| 8.7|1.23|2.82|1680.0|\n",
            "|  1.0|  13.64|        3.1|2.56|              15.2|     116.0|           2.7|       3.03|                 0.17|            1.66|             5.1|0.96|                         3.36|   845.0|13.64| 3.1|2.56|15.2|116.0| 2.7|3.03|0.17|1.66| 5.1|0.96|3.36| 845.0|\n",
            "+-----+-------+-----------+----+------------------+----------+--------------+-----------+---------------------+----------------+----------------+----+-----------------------------+--------+-----+----+----+----+-----+----+----+----+----+----+----+----+------+\n",
            "only showing top 20 rows\n",
            "\n"
          ]
        }
      ]
    },
    {
      "cell_type": "code",
      "source": [
        "assemble=VectorAssembler(inputCols=imputed_col,\n",
        "                        outputCol='assembled_features')"
      ],
      "metadata": {
        "id": "MPv5YBlkzOYg"
      },
      "execution_count": 98,
      "outputs": []
    },
    {
      "cell_type": "code",
      "source": [
        "dat=assemble.transform(impute_data)"
      ],
      "metadata": {
        "id": "HfEp7mxBzObj"
      },
      "execution_count": 99,
      "outputs": []
    },
    {
      "cell_type": "code",
      "source": [
        "dat.show(5)"
      ],
      "metadata": {
        "colab": {
          "base_uri": "https://localhost:8080/"
        },
        "id": "BdH2_DL6zOeY",
        "outputId": "fc2144dd-c18a-458a-d4ea-041ebdc3aa20"
      },
      "execution_count": 100,
      "outputs": [
        {
          "output_type": "stream",
          "name": "stdout",
          "text": [
            "+-----+-------+-----------+----+------------------+----------+--------------+-----------+---------------------+----------------+----------------+----+-----------------------------+--------+-----+----+----+----+-----+----+----+----+----+----+----+----+------+--------------------+\n",
            "|class|alcohol| malic_acid| ash| alcalinity_of_ash| magnesium| total_phenols| flavanoids| nonflavanoid_phenols| proanthocyanins| color_intensity| hue| od280/od315_of_diluted_wines| proline|  f_1| f_2| f_3| f_4|  f_5| f_6| f_7| f_8| f_9|f_10|f_11|f_12|  f_13|  assembled_features|\n",
            "+-----+-------+-----------+----+------------------+----------+--------------+-----------+---------------------+----------------+----------------+----+-----------------------------+--------+-----+----+----+----+-----+----+----+----+----+----+----+----+------+--------------------+\n",
            "|  1.0|  14.23|       1.71|2.43|              15.6|     127.0|           2.8|       3.06|                 0.28|            2.29|            5.64|1.04|                         3.92|  1065.0|14.23|1.71|2.43|15.6|127.0| 2.8|3.06|0.28|2.29|5.64|1.04|3.92|1065.0|[14.23,1.71,2.43,...|\n",
            "|  1.0|   13.2|       1.78|2.14|              11.2|     100.0|          2.65|       2.76|                 0.26|            1.28|            4.38|1.05|                          3.4|  1050.0| 13.2|1.78|2.14|11.2|100.0|2.65|2.76|0.26|1.28|4.38|1.05| 3.4|1050.0|[13.2,1.78,2.14,1...|\n",
            "|  1.0|  13.16|       2.36|2.67|              18.6|     101.0|           2.8|       3.24|                  0.3|            2.81|            5.68|1.03|                         3.17|  1185.0|13.16|2.36|2.67|18.6|101.0| 2.8|3.24| 0.3|2.81|5.68|1.03|3.17|1185.0|[13.16,2.36,2.67,...|\n",
            "|  1.0|  14.37|       1.95| 2.5|              16.8|     113.0|          3.85|       3.49|                 0.24|            2.18|             7.8|0.86|                         3.45|  1480.0|14.37|1.95| 2.5|16.8|113.0|3.85|3.49|0.24|2.18| 7.8|0.86|3.45|1480.0|[14.37,1.95,2.5,1...|\n",
            "|  1.0|  13.24|       2.59|2.87|              21.0|     118.0|           2.8|       2.69|                 0.39|            1.82|            4.32|1.04|                         2.93|   735.0|13.24|2.59|2.87|21.0|118.0| 2.8|2.69|0.39|1.82|4.32|1.04|2.93| 735.0|[13.24,2.59,2.87,...|\n",
            "+-----+-------+-----------+----+------------------+----------+--------------+-----------+---------------------+----------------+----------------+----+-----------------------------+--------+-----+----+----+----+-----+----+----+----+----+----+----+----+------+--------------------+\n",
            "only showing top 5 rows\n",
            "\n"
          ]
        }
      ]
    },
    {
      "cell_type": "code",
      "source": [
        "scaler=MinMaxScaler(min=0,max=1.0,\n",
        "                    inputCol='assembled_features',\n",
        "                    outputCol='features')"
      ],
      "metadata": {
        "id": "VIWrlzNZzOhQ"
      },
      "execution_count": 101,
      "outputs": []
    },
    {
      "cell_type": "code",
      "source": [
        "sc=scaler.fit(dat).transform(dat)"
      ],
      "metadata": {
        "id": "-NLy3gFB0fXX"
      },
      "execution_count": 102,
      "outputs": []
    },
    {
      "cell_type": "code",
      "source": [
        "sc.select('features').show(5)"
      ],
      "metadata": {
        "colab": {
          "base_uri": "https://localhost:8080/"
        },
        "id": "CqCZ7rYK0fad",
        "outputId": "2cbb8703-68b8-4cef-ec21-395ec9503f75"
      },
      "execution_count": 103,
      "outputs": [
        {
          "output_type": "stream",
          "name": "stdout",
          "text": [
            "+--------------------+\n",
            "|            features|\n",
            "+--------------------+\n",
            "|[0.84210526315789...|\n",
            "|[0.57105263157894...|\n",
            "|[0.56052631578947...|\n",
            "|[0.87894736842105...|\n",
            "|[0.58157894736842...|\n",
            "+--------------------+\n",
            "only showing top 5 rows\n",
            "\n"
          ]
        }
      ]
    },
    {
      "cell_type": "code",
      "source": [
        "assembler=VectorAssembler(inputCols=input_cols,outputCol='features')"
      ],
      "metadata": {
        "id": "-1LNW0hb0fke"
      },
      "execution_count": 104,
      "outputs": []
    },
    {
      "cell_type": "code",
      "source": [
        "transformed_data=assembler.transform(data)"
      ],
      "metadata": {
        "id": "GT1GcWUr3E78"
      },
      "execution_count": 105,
      "outputs": []
    },
    {
      "cell_type": "code",
      "source": [
        "transformed_data.show(5)"
      ],
      "metadata": {
        "colab": {
          "base_uri": "https://localhost:8080/"
        },
        "id": "7yq7JaVW3E_C",
        "outputId": "7d0be902-94fd-40d9-dbdf-b9d79f9adad7"
      },
      "execution_count": 106,
      "outputs": [
        {
          "output_type": "stream",
          "name": "stdout",
          "text": [
            "+-----+-------+-----------+----+------------------+----------+--------------+-----------+---------------------+----------------+----------------+----+-----------------------------+--------+--------------------+\n",
            "|class|alcohol| malic_acid| ash| alcalinity_of_ash| magnesium| total_phenols| flavanoids| nonflavanoid_phenols| proanthocyanins| color_intensity| hue| od280/od315_of_diluted_wines| proline|            features|\n",
            "+-----+-------+-----------+----+------------------+----------+--------------+-----------+---------------------+----------------+----------------+----+-----------------------------+--------+--------------------+\n",
            "|  1.0|  14.23|       1.71|2.43|              15.6|     127.0|           2.8|       3.06|                 0.28|            2.29|            5.64|1.04|                         3.92|  1065.0|[14.23,1.71,2.43,...|\n",
            "|  1.0|   13.2|       1.78|2.14|              11.2|     100.0|          2.65|       2.76|                 0.26|            1.28|            4.38|1.05|                          3.4|  1050.0|[13.2,1.78,2.14,1...|\n",
            "|  1.0|  13.16|       2.36|2.67|              18.6|     101.0|           2.8|       3.24|                  0.3|            2.81|            5.68|1.03|                         3.17|  1185.0|[13.16,2.36,2.67,...|\n",
            "|  1.0|  14.37|       1.95| 2.5|              16.8|     113.0|          3.85|       3.49|                 0.24|            2.18|             7.8|0.86|                         3.45|  1480.0|[14.37,1.95,2.5,1...|\n",
            "|  1.0|  13.24|       2.59|2.87|              21.0|     118.0|           2.8|       2.69|                 0.39|            1.82|            4.32|1.04|                         2.93|   735.0|[13.24,2.59,2.87,...|\n",
            "+-----+-------+-----------+----+------------------+----------+--------------+-----------+---------------------+----------------+----------------+----+-----------------------------+--------+--------------------+\n",
            "only showing top 5 rows\n",
            "\n"
          ]
        }
      ]
    },
    {
      "cell_type": "code",
      "source": [
        "training_data,test_data=transformed_data.randomSplit([0.75,0.25],seed=0)"
      ],
      "metadata": {
        "id": "TzSdfTsv3FB2"
      },
      "execution_count": 107,
      "outputs": []
    },
    {
      "cell_type": "code",
      "source": [
        "training_data.count()"
      ],
      "metadata": {
        "colab": {
          "base_uri": "https://localhost:8080/"
        },
        "id": "bSRDfRaq3FEc",
        "outputId": "3a695736-17b7-494f-fd10-7ab97721cb21"
      },
      "execution_count": 108,
      "outputs": [
        {
          "output_type": "execute_result",
          "data": {
            "text/plain": [
              "135"
            ]
          },
          "metadata": {},
          "execution_count": 108
        }
      ]
    },
    {
      "cell_type": "code",
      "source": [
        "test_data.count()"
      ],
      "metadata": {
        "colab": {
          "base_uri": "https://localhost:8080/"
        },
        "id": "TlI0EQd73FHC",
        "outputId": "b770d25e-dbdb-4de8-9b85-6aefd6d74bed"
      },
      "execution_count": 109,
      "outputs": [
        {
          "output_type": "execute_result",
          "data": {
            "text/plain": [
              "43"
            ]
          },
          "metadata": {},
          "execution_count": 109
        }
      ]
    },
    {
      "cell_type": "code",
      "source": [
        "training_data.groupby('class').count().show()"
      ],
      "metadata": {
        "colab": {
          "base_uri": "https://localhost:8080/"
        },
        "id": "pLCCWoHd3FJj",
        "outputId": "079fc0f5-8508-4a06-9586-5535b220ac59"
      },
      "execution_count": 111,
      "outputs": [
        {
          "output_type": "stream",
          "name": "stdout",
          "text": [
            "+-----+-----+\n",
            "|class|count|\n",
            "+-----+-----+\n",
            "|  1.0|   45|\n",
            "|  3.0|   39|\n",
            "|  2.0|   51|\n",
            "+-----+-----+\n",
            "\n"
          ]
        }
      ]
    },
    {
      "cell_type": "code",
      "source": [
        "test_data.groupby('class').count().show()"
      ],
      "metadata": {
        "colab": {
          "base_uri": "https://localhost:8080/"
        },
        "id": "HfP0sAwt3FMC",
        "outputId": "e5b4f2b3-d619-4216-f706-ec1a41c41679"
      },
      "execution_count": 112,
      "outputs": [
        {
          "output_type": "stream",
          "name": "stdout",
          "text": [
            "+-----+-----+\n",
            "|class|count|\n",
            "+-----+-----+\n",
            "|  1.0|   14|\n",
            "|  3.0|    9|\n",
            "|  2.0|   20|\n",
            "+-----+-----+\n",
            "\n"
          ]
        }
      ]
    },
    {
      "cell_type": "code",
      "source": [
        "from pyspark.ml.classification import RandomForestClassifier"
      ],
      "metadata": {
        "id": "bArSR5Ta3FO5"
      },
      "execution_count": 116,
      "outputs": []
    },
    {
      "cell_type": "code",
      "source": [
        "rf= RandomForestClassifier(featuresCol=\"features\", labelCol=\"class\")"
      ],
      "metadata": {
        "id": "XyFWpLtM3FRy"
      },
      "execution_count": 118,
      "outputs": []
    },
    {
      "cell_type": "code",
      "source": [
        "mt=rf.fit(training_data)"
      ],
      "metadata": {
        "id": "zP-2JbuO3FVq"
      },
      "execution_count": 121,
      "outputs": []
    },
    {
      "cell_type": "code",
      "source": [
        "predict=mt.transform(test_data)"
      ],
      "metadata": {
        "id": "Jk9gsYOd6ROE"
      },
      "execution_count": 123,
      "outputs": []
    },
    {
      "cell_type": "code",
      "source": [
        "predict.show(5)"
      ],
      "metadata": {
        "colab": {
          "base_uri": "https://localhost:8080/"
        },
        "id": "GmLABc1Q6RSS",
        "outputId": "0c46174c-8471-468c-d65a-ffe332dffd57"
      },
      "execution_count": 124,
      "outputs": [
        {
          "output_type": "stream",
          "name": "stdout",
          "text": [
            "+-----+-------+-----------+----+------------------+----------+--------------+-----------+---------------------+----------------+----------------+----+-----------------------------+--------+--------------------+------------------+-------------------+----------+\n",
            "|class|alcohol| malic_acid| ash| alcalinity_of_ash| magnesium| total_phenols| flavanoids| nonflavanoid_phenols| proanthocyanins| color_intensity| hue| od280/od315_of_diluted_wines| proline|            features|     rawPrediction|        probability|prediction|\n",
            "+-----+-------+-----------+----+------------------+----------+--------------+-----------+---------------------+----------------+----------------+----+-----------------------------+--------+--------------------+------------------+-------------------+----------+\n",
            "|  1.0|  12.85|        1.6|2.52|              17.8|      95.0|          2.48|       2.37|                 0.26|            1.46|            3.93|1.09|                         3.63|  1015.0|[12.85,1.6,2.52,1...|[0.0,19.0,1.0,0.0]|[0.0,0.95,0.05,0.0]|       1.0|\n",
            "|  1.0|  13.56|       1.73|2.46|              20.5|     116.0|          2.96|       2.78|                  0.2|            2.45|            6.25|0.98|                         3.03|  1120.0|[13.56,1.73,2.46,...|[0.0,20.0,0.0,0.0]|  [0.0,1.0,0.0,0.0]|       1.0|\n",
            "|  1.0|  13.58|       1.66|2.36|              19.1|     106.0|          2.86|       3.19|                 0.22|            1.95|             6.9|1.09|                         2.88|  1515.0|[13.58,1.66,2.36,...|[0.0,20.0,0.0,0.0]|  [0.0,1.0,0.0,0.0]|       1.0|\n",
            "|  1.0|  13.74|       1.67|2.25|              16.4|     118.0|           2.6|        2.9|                 0.21|            1.62|            5.85|0.92|                          3.2|  1060.0|[13.74,1.67,2.25,...|[0.0,20.0,0.0,0.0]|  [0.0,1.0,0.0,0.0]|       1.0|\n",
            "|  1.0|  13.75|       1.73|2.41|              16.0|      89.0|           2.6|       2.76|                 0.29|            1.81|             5.6|1.15|                          2.9|  1320.0|[13.75,1.73,2.41,...|[0.0,19.0,1.0,0.0]|[0.0,0.95,0.05,0.0]|       1.0|\n",
            "+-----+-------+-----------+----+------------------+----------+--------------+-----------+---------------------+----------------+----------------+----+-----------------------------+--------+--------------------+------------------+-------------------+----------+\n",
            "only showing top 5 rows\n",
            "\n"
          ]
        }
      ]
    },
    {
      "cell_type": "code",
      "source": [
        "pred=predict.select('prediction').toPandas()"
      ],
      "metadata": {
        "id": "COReyYJZ6RW5"
      },
      "execution_count": 125,
      "outputs": []
    },
    {
      "cell_type": "code",
      "source": [
        "actual=test_data.select('class').toPandas()"
      ],
      "metadata": {
        "id": "4JKdzGm56x_S"
      },
      "execution_count": 126,
      "outputs": []
    },
    {
      "cell_type": "code",
      "source": [
        "from sklearn.metrics import accuracy_score"
      ],
      "metadata": {
        "id": "-h9a5Zfq6yMB"
      },
      "execution_count": 128,
      "outputs": []
    },
    {
      "cell_type": "code",
      "source": [
        "accuracy_score(actual,pred)"
      ],
      "metadata": {
        "colab": {
          "base_uri": "https://localhost:8080/"
        },
        "id": "Qfac5neq6yIv",
        "outputId": "4412132c-e60f-405b-9bfb-736d6461dd1c"
      },
      "execution_count": 129,
      "outputs": [
        {
          "output_type": "execute_result",
          "data": {
            "text/plain": [
              "0.9767441860465116"
            ]
          },
          "metadata": {},
          "execution_count": 129
        }
      ]
    }
  ]
}