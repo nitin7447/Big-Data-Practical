{
  "nbformat": 4,
  "nbformat_minor": 0,
  "metadata": {
    "colab": {
      "provenance": [],
      "authorship_tag": "ABX9TyOl/OlIx3OFMsDPW8yjfr7e",
      "include_colab_link": true
    },
    "kernelspec": {
      "name": "python3",
      "display_name": "Python 3"
    },
    "language_info": {
      "name": "python"
    }
  },
  "cells": [
    {
      "cell_type": "markdown",
      "metadata": {
        "id": "view-in-github",
        "colab_type": "text"
      },
      "source": [
        "<a href=\"https://colab.research.google.com/github/nitin7447/Big-Data-Practical/blob/main/PySpark_DL.ipynb\" target=\"_parent\"><img src=\"https://colab.research.google.com/assets/colab-badge.svg\" alt=\"Open In Colab\"/></a>"
      ]
    },
    {
      "cell_type": "code",
      "execution_count": null,
      "metadata": {
        "colab": {
          "base_uri": "https://localhost:8080/"
        },
        "id": "KvsWZrvTC38O",
        "outputId": "5fcbedf7-2a58-4337-84ba-8903ab0544cd"
      },
      "outputs": [
        {
          "output_type": "stream",
          "name": "stdout",
          "text": [
            "Looking in indexes: https://pypi.org/simple, https://us-python.pkg.dev/colab-wheels/public/simple/\n",
            "Collecting pyspark\n",
            "  Downloading pyspark-3.3.1.tar.gz (281.4 MB)\n",
            "\u001b[2K     \u001b[90m━━━━━━━━━━━━━━━━━━━━━━━━━━━━━━━━━━━━━━━\u001b[0m \u001b[32m281.4/281.4 MB\u001b[0m \u001b[31m3.3 MB/s\u001b[0m eta \u001b[36m0:00:00\u001b[0m\n",
            "\u001b[?25h  Preparing metadata (setup.py) ... \u001b[?25l\u001b[?25hdone\n",
            "Collecting py4j==0.10.9.5\n",
            "  Downloading py4j-0.10.9.5-py2.py3-none-any.whl (199 kB)\n",
            "\u001b[2K     \u001b[90m━━━━━━━━━━━━━━━━━━━━━━━━━━━━━━━━━━━━━━━\u001b[0m \u001b[32m199.7/199.7 KB\u001b[0m \u001b[31m4.5 MB/s\u001b[0m eta \u001b[36m0:00:00\u001b[0m\n",
            "\u001b[?25hBuilding wheels for collected packages: pyspark\n",
            "  Building wheel for pyspark (setup.py) ... \u001b[?25l\u001b[?25hdone\n",
            "  Created wheel for pyspark: filename=pyspark-3.3.1-py2.py3-none-any.whl size=281845512 sha256=80c825cf3da5e9bda3e8d8d5dba7038dbc0e4107a8ccae58fa6f341a636562b4\n",
            "  Stored in directory: /root/.cache/pip/wheels/43/dc/11/ec201cd671da62fa9c5cc77078235e40722170ceba231d7598\n",
            "Successfully built pyspark\n",
            "Installing collected packages: py4j, pyspark\n",
            "Successfully installed py4j-0.10.9.5 pyspark-3.3.1\n"
          ]
        }
      ],
      "source": [
        "pip install pyspark"
      ]
    },
    {
      "cell_type": "code",
      "source": [
        "from pyspark.sql import SparkSession\n",
        "from pyspark.ml.feature import VectorAssembler,MinMaxScaler\n",
        "from pyspark.ml.classification import MultilayerPerceptronClassifier\n",
        "from pyspark.ml.evaluation import MulticlassClassificationEvaluator"
      ],
      "metadata": {
        "id": "SJO5PB_MC9Ue"
      },
      "execution_count": null,
      "outputs": []
    },
    {
      "cell_type": "code",
      "source": [
        "spark=SparkSession.builder.master(\"local[4]\")\\\n",
        "    .appName('ML APP3').getOrCreate()"
      ],
      "metadata": {
        "id": "dR-Nz4lvC9XW"
      },
      "execution_count": null,
      "outputs": []
    },
    {
      "cell_type": "code",
      "source": [
        "#import the dataset\n",
        "dataset=spark.read.csv(\"data_banknote_authentication.csv\",header=True)"
      ],
      "metadata": {
        "id": "DWNuI92JC9Z2"
      },
      "execution_count": null,
      "outputs": []
    },
    {
      "cell_type": "code",
      "source": [
        "dataset.show(5)"
      ],
      "metadata": {
        "colab": {
          "base_uri": "https://localhost:8080/"
        },
        "id": "CZgtun-REF3z",
        "outputId": "000b64bd-41b2-482f-a83d-68632b7b21d4"
      },
      "execution_count": null,
      "outputs": [
        {
          "output_type": "stream",
          "name": "stdout",
          "text": [
            "+---------+---------+---------+---------+------+\n",
            "|feature_1|feature_2|feature_3|feature_4|Class |\n",
            "+---------+---------+---------+---------+------+\n",
            "|   3.6216|   8.6661|  -2.8073| -0.44699|     0|\n",
            "|   4.5459|   8.1674|  -2.4586|  -1.4621|     0|\n",
            "|    3.866|  -2.6383|   1.9242|  0.10645|     0|\n",
            "|   3.4566|   9.5228|  -4.0112|  -3.5944|     0|\n",
            "|  0.32924|  -4.4552|   4.5718|  -0.9888|     0|\n",
            "+---------+---------+---------+---------+------+\n",
            "only showing top 5 rows\n",
            "\n"
          ]
        }
      ]
    },
    {
      "cell_type": "code",
      "source": [
        "dataset.printSchema()"
      ],
      "metadata": {
        "colab": {
          "base_uri": "https://localhost:8080/"
        },
        "id": "BiSfS9jEEF7v",
        "outputId": "4f946227-0e1f-41c7-af4e-ea83a9c6f66c"
      },
      "execution_count": null,
      "outputs": [
        {
          "output_type": "stream",
          "name": "stdout",
          "text": [
            "root\n",
            " |-- feature_1: string (nullable = true)\n",
            " |-- feature_2: string (nullable = true)\n",
            " |-- feature_3: string (nullable = true)\n",
            " |-- feature_4: string (nullable = true)\n",
            " |-- Class : string (nullable = true)\n",
            "\n"
          ]
        }
      ]
    },
    {
      "cell_type": "code",
      "source": [
        "for col in dataset.columns:\n",
        "  dataset=dataset.withColumn(col,dataset[col].cast('double'))"
      ],
      "metadata": {
        "id": "4O_ZD-dvEF_u"
      },
      "execution_count": null,
      "outputs": []
    },
    {
      "cell_type": "code",
      "source": [
        "dataset.printSchema()"
      ],
      "metadata": {
        "colab": {
          "base_uri": "https://localhost:8080/"
        },
        "id": "ksc8QIdbC9cc",
        "outputId": "9c1242a2-6b5d-4c97-9fe9-0e618281059f"
      },
      "execution_count": null,
      "outputs": [
        {
          "output_type": "stream",
          "name": "stdout",
          "text": [
            "root\n",
            " |-- feature_1: double (nullable = true)\n",
            " |-- feature_2: double (nullable = true)\n",
            " |-- feature_3: double (nullable = true)\n",
            " |-- feature_4: double (nullable = true)\n",
            " |-- Class : double (nullable = true)\n",
            "\n"
          ]
        }
      ]
    },
    {
      "cell_type": "code",
      "source": [
        "#input column\n",
        "input_cols = dataset.columns[:-1]"
      ],
      "metadata": {
        "id": "mcpPe6q5C9hY"
      },
      "execution_count": null,
      "outputs": []
    },
    {
      "cell_type": "code",
      "source": [
        "dataset.select(input_cols).show()"
      ],
      "metadata": {
        "colab": {
          "base_uri": "https://localhost:8080/"
        },
        "id": "NhKXanRVC9j2",
        "outputId": "56a84c99-615d-4c8c-f50a-8635a55a788e"
      },
      "execution_count": null,
      "outputs": [
        {
          "output_type": "stream",
          "name": "stdout",
          "text": [
            "+---------+---------+---------+---------+\n",
            "|feature_1|feature_2|feature_3|feature_4|\n",
            "+---------+---------+---------+---------+\n",
            "|   3.6216|   8.6661|  -2.8073| -0.44699|\n",
            "|   4.5459|   8.1674|  -2.4586|  -1.4621|\n",
            "|    3.866|  -2.6383|   1.9242|  0.10645|\n",
            "|   3.4566|   9.5228|  -4.0112|  -3.5944|\n",
            "|  0.32924|  -4.4552|   4.5718|  -0.9888|\n",
            "|     null|   9.6718|  -3.9606|  -3.1625|\n",
            "|   3.5912|   3.0129|  0.72888|  0.56421|\n",
            "|   2.0922|    -6.81|   8.4636| -0.60216|\n",
            "|   3.2032|   5.7588| -0.75345| -0.61251|\n",
            "|   1.5356|   9.1772|  -2.2718| -0.73535|\n",
            "|   1.2247|   8.7779|  -2.2135| -0.80647|\n",
            "|   3.9899|  -2.7066|   2.3946|  0.86291|\n",
            "|   1.8993|   7.6625|  0.15394|  -3.1108|\n",
            "|  -1.5768|   10.843|   2.5462|  -2.9362|\n",
            "|    3.404|   8.7261|  -2.9915| -0.57242|\n",
            "|   4.6765|  -3.3895|   3.4896|   1.4771|\n",
            "|   2.6719|   3.0646|  0.37158|  0.58619|\n",
            "|  0.80355|   2.8473|   4.3439|   0.6017|\n",
            "|   1.4479|     null|   8.3428|  -2.1086|\n",
            "|   5.2423|  11.0272|   -4.353|  -4.1013|\n",
            "+---------+---------+---------+---------+\n",
            "only showing top 20 rows\n",
            "\n"
          ]
        }
      ]
    },
    {
      "cell_type": "code",
      "source": [
        "from pyspark.ml.feature import Imputer, MinMaxScaler"
      ],
      "metadata": {
        "id": "VItb0octC9mc"
      },
      "execution_count": null,
      "outputs": []
    },
    {
      "cell_type": "code",
      "source": [
        "imputed_col=['f_{}'.format(i+1) for i in range(4)]"
      ],
      "metadata": {
        "id": "vphEfwcrC9pF"
      },
      "execution_count": null,
      "outputs": []
    },
    {
      "cell_type": "code",
      "source": [
        "imputed_col"
      ],
      "metadata": {
        "colab": {
          "base_uri": "https://localhost:8080/"
        },
        "id": "9NW3thBdC9rI",
        "outputId": "0f00e333-b66f-448a-a95c-c47bdfa07fa4"
      },
      "execution_count": null,
      "outputs": [
        {
          "output_type": "execute_result",
          "data": {
            "text/plain": [
              "['f_1', 'f_2', 'f_3', 'f_4']"
            ]
          },
          "metadata": {},
          "execution_count": 15
        }
      ]
    },
    {
      "cell_type": "code",
      "source": [
        "model=Imputer(strategy='mean',\n",
        "              missingValue=None,\n",
        "              inputCols=input_cols,\n",
        "              outputCols=imputed_col).fit(dataset)"
      ],
      "metadata": {
        "id": "3zCkD4W3C9te"
      },
      "execution_count": null,
      "outputs": []
    },
    {
      "cell_type": "code",
      "source": [
        "impute_data=model.transform(dataset)"
      ],
      "metadata": {
        "id": "k3ldWVImHoze"
      },
      "execution_count": null,
      "outputs": []
    },
    {
      "cell_type": "code",
      "source": [
        "impute_data.show()"
      ],
      "metadata": {
        "colab": {
          "base_uri": "https://localhost:8080/"
        },
        "id": "SqL9xcQHHo3q",
        "outputId": "f167799f-3eda-4899-a9d5-92a0a2860a91"
      },
      "execution_count": null,
      "outputs": [
        {
          "output_type": "stream",
          "name": "stdout",
          "text": [
            "+---------+---------+---------+---------+------+------------------+------------------+--------+--------+\n",
            "|feature_1|feature_2|feature_3|feature_4|Class |               f_1|               f_2|     f_3|     f_4|\n",
            "+---------+---------+---------+---------+------+------------------+------------------+--------+--------+\n",
            "|   3.6216|   8.6661|  -2.8073| -0.44699|   0.0|            3.6216|            8.6661| -2.8073|-0.44699|\n",
            "|   4.5459|   8.1674|  -2.4586|  -1.4621|   0.0|            4.5459|            8.1674| -2.4586| -1.4621|\n",
            "|    3.866|  -2.6383|   1.9242|  0.10645|   0.0|             3.866|           -2.6383|  1.9242| 0.10645|\n",
            "|   3.4566|   9.5228|  -4.0112|  -3.5944|   0.0|            3.4566|            9.5228| -4.0112| -3.5944|\n",
            "|  0.32924|  -4.4552|   4.5718|  -0.9888|   0.0|           0.32924|           -4.4552|  4.5718| -0.9888|\n",
            "|     null|   9.6718|  -3.9606|  -3.1625|   0.0|0.4308653338439095|            9.6718| -3.9606| -3.1625|\n",
            "|   3.5912|   3.0129|  0.72888|  0.56421|   0.0|            3.5912|            3.0129| 0.72888| 0.56421|\n",
            "|   2.0922|    -6.81|   8.4636| -0.60216|   0.0|            2.0922|             -6.81|  8.4636|-0.60216|\n",
            "|   3.2032|   5.7588| -0.75345| -0.61251|   0.0|            3.2032|            5.7588|-0.75345|-0.61251|\n",
            "|   1.5356|   9.1772|  -2.2718| -0.73535|   0.0|            1.5356|            9.1772| -2.2718|-0.73535|\n",
            "|   1.2247|   8.7779|  -2.2135| -0.80647|   0.0|            1.2247|            8.7779| -2.2135|-0.80647|\n",
            "|   3.9899|  -2.7066|   2.3946|  0.86291|   0.0|            3.9899|           -2.7066|  2.3946| 0.86291|\n",
            "|   1.8993|   7.6625|  0.15394|  -3.1108|   0.0|            1.8993|            7.6625| 0.15394| -3.1108|\n",
            "|  -1.5768|   10.843|   2.5462|  -2.9362|   0.0|           -1.5768|            10.843|  2.5462| -2.9362|\n",
            "|    3.404|   8.7261|  -2.9915| -0.57242|   0.0|             3.404|            8.7261| -2.9915|-0.57242|\n",
            "|   4.6765|  -3.3895|   3.4896|   1.4771|   0.0|            4.6765|           -3.3895|  3.4896|  1.4771|\n",
            "|   2.6719|   3.0646|  0.37158|  0.58619|   0.0|            2.6719|            3.0646| 0.37158| 0.58619|\n",
            "|  0.80355|   2.8473|   4.3439|   0.6017|   0.0|           0.80355|            2.8473|  4.3439|  0.6017|\n",
            "|   1.4479|     null|   8.3428|  -2.1086|   0.0|            1.4479|1.9273142826529555|  8.3428| -2.1086|\n",
            "|   5.2423|  11.0272|   -4.353|  -4.1013|   0.0|            5.2423|           11.0272|  -4.353| -4.1013|\n",
            "+---------+---------+---------+---------+------+------------------+------------------+--------+--------+\n",
            "only showing top 20 rows\n",
            "\n"
          ]
        }
      ]
    },
    {
      "cell_type": "code",
      "source": [
        "assemble=VectorAssembler(inputCols=imputed_col,\n",
        "                        outputCol='assembled_features')"
      ],
      "metadata": {
        "id": "mHcJBauvIBMM"
      },
      "execution_count": null,
      "outputs": []
    },
    {
      "cell_type": "code",
      "source": [
        "a_data=assemble.transform(impute_data)"
      ],
      "metadata": {
        "id": "tIpwTkmiIThs"
      },
      "execution_count": null,
      "outputs": []
    },
    {
      "cell_type": "code",
      "source": [
        "a_data.show(5)"
      ],
      "metadata": {
        "colab": {
          "base_uri": "https://localhost:8080/"
        },
        "id": "e-PQM8beIaRS",
        "outputId": "6c9298bf-a043-4c91-c1e4-90ed7af5890e"
      },
      "execution_count": null,
      "outputs": [
        {
          "output_type": "stream",
          "name": "stdout",
          "text": [
            "+---------+---------+---------+---------+------+-------+-------+-------+--------+--------------------+\n",
            "|feature_1|feature_2|feature_3|feature_4|Class |    f_1|    f_2|    f_3|     f_4|  assembled_features|\n",
            "+---------+---------+---------+---------+------+-------+-------+-------+--------+--------------------+\n",
            "|   3.6216|   8.6661|  -2.8073| -0.44699|   0.0| 3.6216| 8.6661|-2.8073|-0.44699|[3.6216,8.6661,-2...|\n",
            "|   4.5459|   8.1674|  -2.4586|  -1.4621|   0.0| 4.5459| 8.1674|-2.4586| -1.4621|[4.5459,8.1674,-2...|\n",
            "|    3.866|  -2.6383|   1.9242|  0.10645|   0.0|  3.866|-2.6383| 1.9242| 0.10645|[3.866,-2.6383,1....|\n",
            "|   3.4566|   9.5228|  -4.0112|  -3.5944|   0.0| 3.4566| 9.5228|-4.0112| -3.5944|[3.4566,9.5228,-4...|\n",
            "|  0.32924|  -4.4552|   4.5718|  -0.9888|   0.0|0.32924|-4.4552| 4.5718| -0.9888|[0.32924,-4.4552,...|\n",
            "+---------+---------+---------+---------+------+-------+-------+-------+--------+--------------------+\n",
            "only showing top 5 rows\n",
            "\n"
          ]
        }
      ]
    },
    {
      "cell_type": "code",
      "source": [
        "scaler=MinMaxScaler(min=0,max=1.0,\n",
        "                    inputCol='assembled_features',\n",
        "                    outputCol='features')"
      ],
      "metadata": {
        "id": "7Dt1MHtjIfMx"
      },
      "execution_count": null,
      "outputs": []
    },
    {
      "cell_type": "code",
      "source": [
        "s_data=scaler.fit(a_data).transform(a_data)"
      ],
      "metadata": {
        "id": "E2IlOrL0JW0B"
      },
      "execution_count": null,
      "outputs": []
    },
    {
      "cell_type": "code",
      "source": [
        "s_data.select('features').show(5)"
      ],
      "metadata": {
        "colab": {
          "base_uri": "https://localhost:8080/"
        },
        "id": "SZhVyiz5JW3G",
        "outputId": "eae13936-d483-4b64-9734-3a3f8794816d"
      },
      "execution_count": null,
      "outputs": [
        {
          "output_type": "stream",
          "name": "stdout",
          "text": [
            "+--------------------+\n",
            "|            features|\n",
            "+--------------------+\n",
            "|[0.76900388695382...|\n",
            "|[0.83565901535310...|\n",
            "|[0.78662859038429...|\n",
            "|[0.75710504871312...|\n",
            "|[0.53157807440740...|\n",
            "+--------------------+\n",
            "only showing top 5 rows\n",
            "\n"
          ]
        }
      ]
    },
    {
      "cell_type": "code",
      "source": [
        "s_data=s_data.withColumnRenamed('Class','label')"
      ],
      "metadata": {
        "id": "K9RyDLtDJW5c"
      },
      "execution_count": null,
      "outputs": []
    },
    {
      "cell_type": "code",
      "source": [
        "dataset.columns"
      ],
      "metadata": {
        "colab": {
          "base_uri": "https://localhost:8080/"
        },
        "id": "EjgHTF55JW7g",
        "outputId": "d261c0d4-0206-4507-f4b5-20b7fd6b9b62"
      },
      "execution_count": null,
      "outputs": [
        {
          "output_type": "execute_result",
          "data": {
            "text/plain": [
              "['feature_1', 'feature_2', 'feature_3', 'feature_4', 'Class ']"
            ]
          },
          "metadata": {},
          "execution_count": 38
        }
      ]
    },
    {
      "cell_type": "code",
      "source": [
        "a = ['Class ','features']\n",
        "s_data.select(*a).show(5)"
      ],
      "metadata": {
        "colab": {
          "base_uri": "https://localhost:8080/"
        },
        "id": "HfEGhl9oJXAH",
        "outputId": "db62e7e9-82a7-4f8f-eaab-e64ad67dcf7d"
      },
      "execution_count": null,
      "outputs": [
        {
          "output_type": "stream",
          "name": "stdout",
          "text": [
            "+------+--------------------+\n",
            "|Class |            features|\n",
            "+------+--------------------+\n",
            "|   0.0|[0.76900388695382...|\n",
            "|   0.0|[0.83565901535310...|\n",
            "|   0.0|[0.78662859038429...|\n",
            "|   0.0|[0.75710504871312...|\n",
            "|   0.0|[0.53157807440740...|\n",
            "+------+--------------------+\n",
            "only showing top 5 rows\n",
            "\n"
          ]
        }
      ]
    },
    {
      "cell_type": "code",
      "source": [
        "#Cross validation\n",
        "train_df,test_df=s_data.select('Class ','features').randomSplit([0.75,0.25],seed=0)"
      ],
      "metadata": {
        "id": "3lAqLvcRJXC_"
      },
      "execution_count": null,
      "outputs": []
    },
    {
      "cell_type": "code",
      "source": [
        "train_df.count()"
      ],
      "metadata": {
        "colab": {
          "base_uri": "https://localhost:8080/"
        },
        "id": "2ukH0exvJXFd",
        "outputId": "6ab2767f-4075-4e47-ebab-112553689058"
      },
      "execution_count": null,
      "outputs": [
        {
          "output_type": "execute_result",
          "data": {
            "text/plain": [
              "1013"
            ]
          },
          "metadata": {},
          "execution_count": 47
        }
      ]
    },
    {
      "cell_type": "code",
      "source": [
        "test_df.count()"
      ],
      "metadata": {
        "colab": {
          "base_uri": "https://localhost:8080/"
        },
        "id": "7sPkS7RzJXIP",
        "outputId": "003fd9e8-00a0-40cd-d716-016e63cfbb07"
      },
      "execution_count": null,
      "outputs": [
        {
          "output_type": "execute_result",
          "data": {
            "text/plain": [
              "359"
            ]
          },
          "metadata": {},
          "execution_count": 48
        }
      ]
    },
    {
      "cell_type": "code",
      "source": [
        "mlcp=MultilayerPerceptronClassifier(featuresCol='features',labelCol='Class ',layers=[4,16,2],\n",
        "                                    maxIter=500,blockSize=8,seed=0,solver='gd')"
      ],
      "metadata": {
        "id": "_YUPkEiGb6U4"
      },
      "execution_count": null,
      "outputs": []
    },
    {
      "cell_type": "code",
      "source": [
        "ann=mlcp.fit(train_df)"
      ],
      "metadata": {
        "id": "dw3AvFRub6eU"
      },
      "execution_count": null,
      "outputs": []
    },
    {
      "cell_type": "code",
      "source": [
        "pred=ann.transform(test_df)"
      ],
      "metadata": {
        "id": "i18PaGQrb6ix"
      },
      "execution_count": null,
      "outputs": []
    },
    {
      "cell_type": "code",
      "source": [
        "evaluator=MulticlassClassificationEvaluator(labelCol='Class ',predictionCol='prediction',metricName='accuracy')"
      ],
      "metadata": {
        "id": "KZCzhW6Qb6l5"
      },
      "execution_count": null,
      "outputs": []
    },
    {
      "cell_type": "code",
      "source": [
        "evaluator.evaluate(pred)"
      ],
      "metadata": {
        "colab": {
          "base_uri": "https://localhost:8080/"
        },
        "id": "BnYVh8pcb6oz",
        "outputId": "fc1dd5b8-ff8b-46bb-f810-81e77074cfa7"
      },
      "execution_count": null,
      "outputs": [
        {
          "output_type": "execute_result",
          "data": {
            "text/plain": [
              "0.5766016713091922"
            ]
          },
          "metadata": {},
          "execution_count": 56
        }
      ]
    },
    {
      "cell_type": "code",
      "source": [],
      "metadata": {
        "id": "5KdzqYqNb6ro"
      },
      "execution_count": null,
      "outputs": []
    },
    {
      "cell_type": "code",
      "source": [],
      "metadata": {
        "id": "-ubr7uSYb6ue"
      },
      "execution_count": null,
      "outputs": []
    }
  ]
}